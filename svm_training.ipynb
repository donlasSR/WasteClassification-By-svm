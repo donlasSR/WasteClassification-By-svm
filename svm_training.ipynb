{
  "nbformat": 4,
  "nbformat_minor": 0,
  "metadata": {
    "colab": {
      "provenance": [],
      "gpuType": "T4",
      "mount_file_id": "1kBvNnewnQ0d5mh3uwMhNK_Byl87ZP0QV",
      "authorship_tag": "ABX9TyPRaLK+e0X+3P5pzWDshG6n",
      "include_colab_link": true
    },
    "kernelspec": {
      "name": "python3",
      "display_name": "Python 3"
    },
    "language_info": {
      "name": "python"
    },
    "accelerator": "GPU"
  },
  "cells": [
    {
      "cell_type": "markdown",
      "metadata": {
        "id": "view-in-github",
        "colab_type": "text"
      },
      "source": [
        "<a href=\"https://colab.research.google.com/github/donlasSR/WasteClassification/blob/main/svm_training.ipynb\" target=\"_parent\"><img src=\"https://colab.research.google.com/assets/colab-badge.svg\" alt=\"Open In Colab\"/></a>"
      ]
    },
    {
      "cell_type": "code",
      "execution_count": null,
      "metadata": {
        "id": "84Kxs4hFUx-E"
      },
      "outputs": [],
      "source": [
        "import numpy as np\n",
        "import pandas as pd\n",
        "import matplotlib.pyplot as plt\n",
        "from sklearn.model_selection import train_test_split #for split the data\n",
        "from sklearn.metrics import accuracy_score #for accuracy_score\n",
        "from sklearn.model_selection import KFold #for K-fold cross validation\n",
        "from sklearn.model_selection import cross_val_score #score evaluation\n",
        "from sklearn.model_selection import cross_val_predict #prediction\n",
        "from sklearn.metrics import confusion_matrix #for confusion matrix\n",
        "from sklearn.svm import SVC, LinearSVC\n",
        "from sklearn import tree\n",
        "from sklearn.tree import DecisionTreeClassifier\n",
        "import seaborn as sns\n",
        "import os\n",
        "from skimage.io import imread\n",
        "from sklearn.preprocessing import StandardScaler\n",
        "from sklearn.metrics import confusion_matrix, ConfusionMatrixDisplay\n",
        "import matplotlib.pyplot as plt\n",
        "from sklearn.decomposition import PCA\n",
        "from sklearn.metrics import classification_report\n"
      ]
    },
    {
      "cell_type": "code",
      "source": [
        "# !unzip \"/content/drive/MyDrive/data/process_dataset.zip\" -d \"/content/drive/MyDrive/data\""
      ],
      "metadata": {
        "id": "RzaCiFAHkPkO"
      },
      "execution_count": null,
      "outputs": []
    },
    {
      "cell_type": "code",
      "source": [
        "dp = '/content/drive/MyDrive/data'\n",
        "\n",
        "# แสดงรายการไฟล์ในโฟลเดอร์\n",
        "files = os.listdir(dp)\n",
        "print(f\"ไฟล์ในโฟลเดอร์: {files}\")\n"
      ],
      "metadata": {
        "colab": {
          "base_uri": "https://localhost:8080/"
        },
        "id": "SINWNj4u32dT",
        "outputId": "9074ef66-83e2-4894-dc09-b229c0bec029"
      },
      "execution_count": null,
      "outputs": [
        {
          "output_type": "stream",
          "name": "stdout",
          "text": [
            "ไฟล์ในโฟลเดอร์: ['process_dataset.zip', 'glass', 'metal', 'paper', 'plastic', 'waste']\n"
          ]
        }
      ]
    },
    {
      "cell_type": "code",
      "source": [
        "# กำหนดพาธของข้อมูล\n",
        "data_path = '/content/drive/MyDrive/data'\n",
        "categories = ['glass', 'metal', 'paper', 'plastic', 'waste']  # หมวดหมู่ที่เรามี\n",
        "\n",
        "# เตรียมข้อมูล\n",
        "images = []\n",
        "labels = []\n",
        "\n",
        "for category_index, category in enumerate(categories):\n",
        "    category_path = os.path.join(data_path, category)\n",
        "    for filename in os.listdir(category_path):\n",
        "        if filename.endswith('.jpg') or filename.endswith('.png'):  # ถ้าเป็นไฟล์ภาพ\n",
        "            image_path = os.path.join(category_path, filename)\n",
        "            image = imread(image_path)  # โหลดภาพ\n",
        "            image = image.flatten()  # แปลงเป็นเวกเตอร์ 1 มิติ\n",
        "            images.append(image)\n",
        "            labels.append(category_index)  # กำหนด label สำหรับหมวดหมู่\n",
        "\n",
        "# แปลงเป็น numpy arrays\n",
        "X = np.array(images)\n",
        "y = np.array(labels)\n",
        "\n",
        "# แบ่งข้อมูลเป็นชุดฝึกและชุดทดสอบ\n",
        "X_train, X_test, y_train, y_test = train_test_split(X, y, test_size=0.3, random_state=42)\n",
        "\n",
        "# สร้างโมเดล SVM\n",
        "svm = SVC(kernel='rbf', C=1, gamma=0.1)  # ใช้ RBF Kernel\n",
        "svm.fit(X_train, y_train)\n",
        "\n",
        "# ทำนายผล\n",
        "y_pred = svm.predict(X_test)\n",
        "\n",
        "# # ประเมินผล\n",
        "# print(\"Accuracy:\", accuracy_score(y_test, y_pred))\n",
        "# print(\"Classification Report:\\n\", classification_report(y_test, y_pred))\n"
      ],
      "metadata": {
        "id": "tLIiwWwU4GJc"
      },
      "execution_count": null,
      "outputs": []
    },
    {
      "cell_type": "code",
      "source": [
        "# ประเมินผล\n",
        "print(\"Accuracy:\", accuracy_score(y_test, y_pred))\n",
        "print(\"Classification Report:\\n\", classification_report(y_test, y_pred))"
      ],
      "metadata": {
        "colab": {
          "base_uri": "https://localhost:8080/"
        },
        "id": "WkXhX5Mv943S",
        "outputId": "30248ec7-0bf6-4da6-a59b-ddacd32e0e91"
      },
      "execution_count": null,
      "outputs": [
        {
          "output_type": "stream",
          "name": "stdout",
          "text": [
            "Accuracy: 0.21481481481481482\n",
            "Classification Report:\n",
            "               precision    recall  f1-score   support\n",
            "\n",
            "           0       1.00      0.08      0.15       149\n",
            "           1       1.00      0.02      0.03       127\n",
            "           2       0.19      1.00      0.32       126\n",
            "           3       1.00      0.02      0.03       131\n",
            "           4       1.00      0.02      0.04       142\n",
            "\n",
            "    accuracy                           0.21       675\n",
            "   macro avg       0.84      0.23      0.11       675\n",
            "weighted avg       0.85      0.21      0.11       675\n",
            "\n"
          ]
        }
      ]
    },
    {
      "cell_type": "code",
      "source": [
        "# สร้างโมเดล SVM\n",
        "svm = SVC(kernel='linear')\n",
        "svm.fit(X_train, y_train)\n",
        "\n",
        "# ทำนายผล\n",
        "y_pred = svm.predict(X_test)\n",
        "\n",
        "# ประเมินผล\n",
        "print(\"Accuracy:\", accuracy_score(y_test, y_pred))"
      ],
      "metadata": {
        "colab": {
          "base_uri": "https://localhost:8080/"
        },
        "id": "jTsFaPyYeq0O",
        "outputId": "2dfe1fe3-7f6a-46e7-feaa-ae9a7125cc70"
      },
      "execution_count": null,
      "outputs": [
        {
          "output_type": "stream",
          "name": "stdout",
          "text": [
            "Accuracy: 0.482962962962963\n"
          ]
        }
      ]
    },
    {
      "cell_type": "code",
      "source": [
        "# # สร้างโมเดล SVM พร้อมปรับค่าพารามิเตอร์\n",
        "# svm = SVC(kernel='rbf', C=10, gamma=0.01)\n",
        "# svm.fit(X_train, y_train)\n",
        "\n",
        "# # ทำนายผล\n",
        "# y_pred = svm.predict(X_test)\n",
        "\n",
        "# # ประเมินผล\n",
        "# print(\"Accuracy:\", accuracy_score(y_test, y_pred))"
      ],
      "metadata": {
        "id": "Rq9l3q2kakuj"
      },
      "execution_count": null,
      "outputs": []
    },
    {
      "cell_type": "code",
      "source": [
        "cm = confusion_matrix(y_test, y_pred)\n",
        "\n",
        "# แสดง Confusion Matrix ในรูปแบบข้อความ\n",
        "print(\"Confusion Matrix:\\n\", cm)\n",
        "\n",
        "# แสดง Confusion Matrix ในรูปแบบกราฟ\n",
        "disp = ConfusionMatrixDisplay(confusion_matrix=cm, display_labels=['glass', 'metal', 'paper', 'plastic', 'waste'])\n",
        "disp.plot(cmap=plt.cm.Blues)  # ใช้โทนสีฟ้าเพื่อความชัดเจน\n",
        "plt.title(\"Confusion Matrix\")\n",
        "plt.show()"
      ],
      "metadata": {
        "colab": {
          "base_uri": "https://localhost:8080/",
          "height": 582
        },
        "id": "vrmFAkeFWB9g",
        "outputId": "9cfd3d44-132c-4282-8883-4ef41250fcc6"
      },
      "execution_count": null,
      "outputs": [
        {
          "output_type": "stream",
          "name": "stdout",
          "text": [
            "Confusion Matrix:\n",
            " [[65 16  6 59  3]\n",
            " [15 59 15 33  5]\n",
            " [14 25 41 27 19]\n",
            " [30 24  8 67  2]\n",
            " [ 3 10 32  3 94]]\n"
          ]
        },
        {
          "output_type": "display_data",
          "data": {
            "text/plain": [
              "<Figure size 640x480 with 2 Axes>"
            ],
            "image/png": "[encoded data removed]"
          },
          "metadata": {}
        }
      ]
    }
  ]
}